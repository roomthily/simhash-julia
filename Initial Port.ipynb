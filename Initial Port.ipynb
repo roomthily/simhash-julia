{
 "cells": [
  {
   "cell_type": "code",
   "execution_count": null,
   "metadata": {
    "collapsed": true
   },
   "outputs": [],
   "source": [
    "Port of the simhash algo (from a python port) in julia lang."
   ]
  },
  {
   "cell_type": "code",
   "execution_count": 25,
   "metadata": {
    "collapsed": true
   },
   "outputs": [],
   "source": [
    "# run to reload the workspace/types and avoid the method overwrite warning\n",
    "workspace()"
   ]
  },
  {
   "cell_type": "code",
   "execution_count": 26,
   "metadata": {
    "collapsed": false
   },
   "outputs": [
    {
     "name": "stderr",
     "output_type": "stream",
     "text": [
      "WARNING: Method definition redirect_stderr(Function, Any) in module Compat at /Users/sparky/.julia/v0.5/Compat/src/Compat.jl:1602 overwritten in module Compat at /Users/sparky/.julia/v0.5/Compat/src/Compat.jl:1602.\n",
      "WARNING: Method definition redirect_stdout(Function, Any) in module Compat at /Users/sparky/.julia/v0.5/Compat/src/Compat.jl:1602 overwritten in module Compat at /Users/sparky/.julia/v0.5/Compat/src/Compat.jl:1602.\n",
      "WARNING: Method definition take!(Main.Base.AbstractIOBuffer) in module Compat at /Users/sparky/.julia/v0.5/Compat/src/Compat.jl:1708 overwritten in module Compat at /Users/sparky/.julia/v0.5/Compat/src/Compat.jl:1708.\n",
      "WARNING: Method definition !(Function) in module Compat at /Users/sparky/.julia/v0.5/Compat/src/Compat.jl:1741 overwritten in module Compat at /Users/sparky/.julia/v0.5/Compat/src/Compat.jl:1741.\n",
      "WARNING: Method definition isnull(Any) in module Compat at /Users/sparky/.julia/v0.5/Compat/src/Compat.jl:1680 overwritten in module Compat at /Users/sparky/.julia/v0.5/Compat/src/Compat.jl:1680.\n",
      "WARNING: Method definition redirect_stdin(Function, Any) in module Compat at /Users/sparky/.julia/v0.5/Compat/src/Compat.jl:1602 overwritten in module Compat at /Users/sparky/.julia/v0.5/Compat/src/Compat.jl:1602.\n",
      "WARNING: Method definition count() in module Iterators at deprecated.jl:49 overwritten in module Iterators at deprecated.jl:49.\n",
      "WARNING: Method definition count(Number) in module Iterators at deprecated.jl:49 overwritten in module Iterators at deprecated.jl:49.\n",
      "WARNING: Method definition count(Number, Number) in module Iterators at deprecated.jl:49 overwritten in module Iterators at deprecated.jl:49.\n"
     ]
    }
   ],
   "source": [
    "using Nettle\n",
    "using Formatting\n",
    "using Iterators"
   ]
  },
  {
   "cell_type": "code",
   "execution_count": 27,
   "metadata": {
    "collapsed": false
   },
   "outputs": [
    {
     "data": {
      "text/plain": [
       "r\"\\w+\""
      ]
     },
     "execution_count": 27,
     "metadata": {},
     "output_type": "execute_result"
    }
   ],
   "source": [
    "_regex = r\"\\w+\"\n",
    "# default in py : r\"[\\w\\u4e00-\\u9fcc]+\"\n",
    "# going with the more straightforward get the words"
   ]
  },
  {
   "cell_type": "code",
   "execution_count": 28,
   "metadata": {
    "collapsed": false
   },
   "outputs": [
    {
     "data": {
      "text/plain": [
       "build_by_features (generic function with 1 method)"
      ]
     },
     "execution_count": 28,
     "metadata": {},
     "output_type": "execute_result"
    }
   ],
   "source": [
    "type Simhash\n",
    "    # this, unfortunately, does not hash on init\n",
    "    value\n",
    "    f::Int\n",
    "    \n",
    "    function Simhash(value::BigInt, f::Int)\n",
    "        new(value, f)\n",
    "    end\n",
    "    function Simhash(value::Simhash, f::Int)\n",
    "        new(value.value, f)\n",
    "    end\n",
    "    function Simhash(value::AbstractString, f::Int)\n",
    "        v = build_by_text(value, f)\n",
    "        new(v, f)\n",
    "    end\n",
    "    function Simhash(value::Dict, f::Int)\n",
    "        v = build_by_features(value, f)\n",
    "        new(v, f)\n",
    "    end\n",
    "    function Simhash(value::AbstractArray, f::Int)\n",
    "        v = build_by_features(value, f)\n",
    "        new(v, f)\n",
    "    end\n",
    "    function Simhash(s::Simhash)\n",
    "        new(s.value, s.f)\n",
    "    end\n",
    "end\n",
    "\n",
    "function _hashfunc(x)\n",
    "    h = Hasher(\"md5\")\n",
    "    update!(h, x)\n",
    "    return parse(BigInt, hexdigest!(h), 16)\n",
    "end\n",
    "\n",
    "function distance(one::Simhash, another::Simhash)\n",
    "    # this is ridiculous, julia\n",
    "    x =  BigInt((one.value $ another.value) & ((BigInt(1) << BigInt(one.f)) - BigInt(1)))\n",
    "    ans = 0\n",
    "    while x > 0\n",
    "        ans += 1\n",
    "        x &= x - 1\n",
    "    end\n",
    "    return ans\n",
    "end\n",
    "\n",
    "function _tokenize(content::String)\n",
    "    content = lowercase(content)\n",
    "    content = join(matchall(_regex, content), \"\")\n",
    "    return _slide(content)\n",
    "end\n",
    "\n",
    "function _slide(content::String, width=4)\n",
    "    return [content[i:min(i + width-1, length(content))] for i in 1:max(length(content) - width, 1) + 1] \n",
    "end\n",
    "\n",
    "function build_by_text(content::String, f)\n",
    "    features = _tokenize(content)\n",
    "    fdict = Dict{String, Integer}(g[1] => length(g) for g = groupby(x -> x, sort(features)))\n",
    "    return build_by_features(fdict, f)\n",
    "end\n",
    "\n",
    "function build_by_features(features::Any, f)\n",
    "    v = zeros(f)\n",
    "    masks = [BigInt(1) << BigInt(i-1) for i in 1:f]\n",
    "    \n",
    "    if isa(features, Dict)\n",
    "        # to list of tuples\n",
    "        features = collect(features)\n",
    "    end\n",
    "    \n",
    "    for feat in features\n",
    "        # strings are by default unicode\n",
    "        if isa(feat, String)\n",
    "            h = _hashfunc(feat)\n",
    "            w = 1\n",
    "        else\n",
    "            # without assertion for the iterables\n",
    "            h = _hashfunc(feat[1])\n",
    "            w = feat[2] \n",
    "        end\n",
    "            \n",
    "        for i in 1:f\n",
    "            v[i] += h & masks[i] != 0 ? w : -w\n",
    "        end\n",
    "    end\n",
    "    \n",
    "    ans = 0\n",
    "    for i in 1:f\n",
    "        if v[i] >= 0\n",
    "            ans |= masks[i] \n",
    "        end\n",
    "    end\n",
    "    \n",
    "    # numeric rep of the string/iterable\n",
    "    return ans\n",
    "end"
   ]
  },
  {
   "cell_type": "code",
   "execution_count": 21,
   "metadata": {
    "collapsed": false
   },
   "outputs": [
    {
     "data": {
      "text/plain": [
       "39"
      ]
     },
     "execution_count": 21,
     "metadata": {},
     "output_type": "execute_result"
    }
   ],
   "source": [
    "s1 = Simhash(_hashfunc(\"23456\"), 64)\n",
    "s2 = Simhash(_hashfunc(\"23455\"), 64)\n",
    "\n",
    "distance(s1, s2)"
   ]
  },
  {
   "cell_type": "code",
   "execution_count": 51,
   "metadata": {
    "collapsed": false
   },
   "outputs": [
    {
     "data": {
      "text/plain": [
       "Simhash(4600387986561040303,64)"
      ]
     },
     "execution_count": 51,
     "metadata": {},
     "output_type": "execute_result"
    }
   ],
   "source": [
    "Simhash(\"ab\", 64)"
   ]
  },
  {
   "cell_type": "code",
   "execution_count": 21,
   "metadata": {
    "collapsed": false
   },
   "outputs": [
    {
     "data": {
      "text/plain": [
       "Simhash(8637903533912358349,64)"
      ]
     },
     "execution_count": 21,
     "metadata": {},
     "output_type": "execute_result"
    }
   ],
   "source": [
    "s = Simhash([\"aaa\", \"bbb\"], 64)"
   ]
  },
  {
   "cell_type": "code",
   "execution_count": 52,
   "metadata": {
    "collapsed": false
   },
   "outputs": [
    {
     "data": {
      "text/plain": [
       "\u001b[1m\u001b[32mTest Passed\n",
       "\u001b[0m  Expression: distance(Simhash(\"1\",64),Simhash(\"2\",64)) != 0\n",
       "   Evaluated: 14 != 0"
      ]
     },
     "execution_count": 52,
     "metadata": {},
     "output_type": "execute_result"
    }
   ],
   "source": [
    "using Base.Test\n",
    "\n",
    "# basic check\n",
    "@test Simhash([\"aaa\", \"bbb\"], 64).value == 8637903533912358349\n",
    "\n",
    "# distance tests\n",
    "sh = Simhash(\"How are you? I AM fine. Thanks. And you?\", 64)\n",
    "sh2 = Simhash(\"How old are you ? :-) i am fine. Thanks. And you?\", 64)\n",
    "\n",
    "@test distance(sh, sh2) > 0\n",
    "\n",
    "sh3 = Simhash(sh2, 64)\n",
    "\n",
    "@test distance(sh2, sh3) == 0\n",
    "\n",
    "@test distance(Simhash(\"1\", 64), Simhash(\"2\", 64)) != 0"
   ]
  },
  {
   "cell_type": "code",
   "execution_count": 60,
   "metadata": {
    "collapsed": false,
    "scrolled": true
   },
   "outputs": [
    {
     "name": "stdout",
     "output_type": "stream",
     "text": [
      "\u001b[1m\u001b[37mTest Summary: | \u001b[0m\u001b[1m\u001b[32mPass  \u001b[0m\u001b[1m\u001b[34mTotal\u001b[0m\n",
      "  test set    | \u001b[1m\u001b[32m  30  \u001b[0m\u001b[1m\u001b[34m   30\u001b[0m\n"
     ]
    },
    {
     "data": {
      "text/plain": [
       "Base.Test.DefaultTestSet(\"test set\",Any[\u001b[1m\u001b[32mTest Passed\n",
       "\u001b[0m  Expression: sh1 != sh2\n",
       "   Evaluated: 4174764262805172083 != 8070439531712346394,\u001b[1m\u001b[32mTest Passed\n",
       "\u001b[0m  Expression: sh1 != sh2\n",
       "   Evaluated: 4174764262805172083 != 17870237137601691117,\u001b[1m\u001b[32mTest Passed\n",
       "\u001b[0m  Expression: sh1 != sh2\n",
       "   Evaluated: 4174764262805172083 != 16140833772797945853,\u001b[1m\u001b[32mTest Passed\n",
       "\u001b[0m  Expression: sh1 != sh2\n",
       "   Evaluated: 4174764262805172083 != 15564370821471127029,\u001b[1m\u001b[32mTest Passed\n",
       "\u001b[0m  Expression: sh1 != sh2\n",
       "   Evaluated: 4174764262805172083 != 15555363622182306293,\u001b[1m\u001b[32mTest Passed\n",
       "\u001b[0m  Expression: sh1 != sh2\n",
       "   Evaluated: 8070439531712346394 != 4174764262805172083,\u001b[1m\u001b[32mTest Passed\n",
       "\u001b[0m  Expression: sh1 != sh2\n",
       "   Evaluated: 8070439531712346394 != 17870237137601691117,\u001b[1m\u001b[32mTest Passed\n",
       "\u001b[0m  Expression: sh1 != sh2\n",
       "   Evaluated: 8070439531712346394 != 16140833772797945853,\u001b[1m\u001b[32mTest Passed\n",
       "\u001b[0m  Expression: sh1 != sh2\n",
       "   Evaluated: 8070439531712346394 != 15564370821471127029,\u001b[1m\u001b[32mTest Passed\n",
       "\u001b[0m  Expression: sh1 != sh2\n",
       "   Evaluated: 8070439531712346394 != 15555363622182306293  …  \u001b[1m\u001b[32mTest Passed\n",
       "\u001b[0m  Expression: sh1 != sh2\n",
       "   Evaluated: 15564370821471127029 != 4174764262805172083,\u001b[1m\u001b[32mTest Passed\n",
       "\u001b[0m  Expression: sh1 != sh2\n",
       "   Evaluated: 15564370821471127029 != 8070439531712346394,\u001b[1m\u001b[32mTest Passed\n",
       "\u001b[0m  Expression: sh1 != sh2\n",
       "   Evaluated: 15564370821471127029 != 17870237137601691117,\u001b[1m\u001b[32mTest Passed\n",
       "\u001b[0m  Expression: sh1 != sh2\n",
       "   Evaluated: 15564370821471127029 != 16140833772797945853,\u001b[1m\u001b[32mTest Passed\n",
       "\u001b[0m  Expression: sh1 != sh2\n",
       "   Evaluated: 15564370821471127029 != 15555363622182306293,\u001b[1m\u001b[32mTest Passed\n",
       "\u001b[0m  Expression: sh1 != sh2\n",
       "   Evaluated: 15555363622182306293 != 4174764262805172083,\u001b[1m\u001b[32mTest Passed\n",
       "\u001b[0m  Expression: sh1 != sh2\n",
       "   Evaluated: 15555363622182306293 != 8070439531712346394,\u001b[1m\u001b[32mTest Passed\n",
       "\u001b[0m  Expression: sh1 != sh2\n",
       "   Evaluated: 15555363622182306293 != 17870237137601691117,\u001b[1m\u001b[32mTest Passed\n",
       "\u001b[0m  Expression: sh1 != sh2\n",
       "   Evaluated: 15555363622182306293 != 16140833772797945853,\u001b[1m\u001b[32mTest Passed\n",
       "\u001b[0m  Expression: sh1 != sh2\n",
       "   Evaluated: 15555363622182306293 != 15564370821471127029],false)"
      ]
     },
     "execution_count": 60,
     "metadata": {},
     "output_type": "execute_result"
    }
   ],
   "source": [
    "# short tests\n",
    "\n",
    "shs = [Simhash(s, 64).value for s in (\"aa\", \"aaa\", \"aaaa\", \"aaaab\", \"aaaaabb\", \"aaaaabbb\")]\n",
    "\n",
    "@testset begin\n",
    "for (i, sh1) in enumerate(shs)\n",
    "    for (j, sh2) in enumerate(shs)\n",
    "        if i != j\n",
    "            @test sh1 != sh2\n",
    "        end\n",
    "    end\n",
    "end\n",
    "    \n",
    "end"
   ]
  },
  {
   "cell_type": "code",
   "execution_count": 29,
   "metadata": {
    "collapsed": false
   },
   "outputs": [
    {
     "data": {
      "text/plain": [
       "delete_from_index (generic function with 1 method)"
      ]
     },
     "execution_count": 29,
     "metadata": {},
     "output_type": "execute_result"
    }
   ],
   "source": [
    "# port of the SimHashIndex class\n",
    "\n",
    "_fe = FormatExpr(\"{1:x},{2}\")\n",
    "\n",
    "type SimhashIndex \n",
    "    # from py : list of tuples\n",
    "    objs::Array{Tuple{String,Simhash}}\n",
    "    f::Int\n",
    "    k::Int\n",
    "    count::Int\n",
    "    \n",
    "    # from py : default dict of sets\n",
    "    bucket::Dict{String, Set} \n",
    "    \n",
    "    # generate the offsets from the f, k\n",
    "    offsets::Array{Int}\n",
    "    \n",
    "    function SimhashIndex(objs::Array{Tuple{String,Simhash}}, f::Int, k::Int)\n",
    "        bucket = Dict{String, Set}(Set())\n",
    "        offsets = _offsets(f, k)\n",
    "        for obj in objs\n",
    "            add_to_index(bucket, obj, offsets)\n",
    "        end\n",
    "        new(objs, f, k, length(objs), bucket, offsets)\n",
    "    end\n",
    "end\n",
    "\n",
    "function add_to_index(bucket, obj, offsets)\n",
    "    # obj = Tuple(string, simhash)\n",
    "    for key in _get_keys(obj[2], offsets)\n",
    "        v = format(_fe, obj[2].value, obj[1]) \n",
    "        if !haskey(bucket, key)\n",
    "            bucket[key] = Set()\n",
    "        end\n",
    "        push!(bucket[key], v)\n",
    "    end\n",
    "end\n",
    "\n",
    "function _offsets(f, k)\n",
    "    # per the orig.: You may optimize this method according to \n",
    "    #     <http://www.wwwconference.org/www2007/papers/paper215.pdf>\n",
    "    return [fld(f, (k + 1)) * (i - 1) for i in 1:(k + 1)] \n",
    "end\n",
    "\n",
    "function _get_keys(simhash, offsets)\n",
    "    keys = []\n",
    "    fe = FormatExpr(\"{1:x}:{2:x}\")\n",
    "    for (i, offset) in enumerate(offsets)\n",
    "        if i == length(offsets)\n",
    "            m = 2 ^ (simhash.f - offset) - 1\n",
    "        else\n",
    "            m = 2 ^ (offsets[i+1] - offset) - 1\n",
    "        end\n",
    "        c = (simhash.value >> offset) & m\n",
    "        push!(keys, format(fe, c, i))\n",
    "    end\n",
    "    return keys\n",
    "end\n",
    "\n",
    "function get_near_dups(index, simhash,)\n",
    "    # simhash = simhash obj to check against index\n",
    "    ans = Set()\n",
    "    \n",
    "    for key in _get_keys(simhash, index.offsets)\n",
    "        dups = index.bucket[key]\n",
    "        \n",
    "        if length(dups) > 200\n",
    "            println(\"Warning: big bucket found: \", key) \n",
    "        end\n",
    "        \n",
    "        for dup in dups\n",
    "            simhash2, obj_id = split(dup, ',', limit=2)\n",
    "            simhash2 = Simhash(parse(BigInt, simhash2, 16), simhash.f)\n",
    "            d = distance(simhash, simhash2)\n",
    "            if d <= index.k\n",
    "                push!(ans, obj_id)\n",
    "            end\n",
    "        end\n",
    "    end\n",
    "    \n",
    "    return collect(ans)\n",
    "end\n",
    "\n",
    "function delete_from_index(obj_id, simhash)\n",
    "    # string, simhash\n",
    "    for key in _get_keys(simhash)\n",
    "        v = format(_fe, simhash.value, obj_id)\n",
    "        delete!(bucket[key], v)\n",
    "    end\n",
    "end\n"
   ]
  },
  {
   "cell_type": "code",
   "execution_count": 30,
   "metadata": {
    "collapsed": false
   },
   "outputs": [
    {
     "data": {
      "text/plain": [
       "SimhashIndex(Tuple{String,Simhash}[(\"4\",Simhash(17663612459742043242,64)),(\"2\",Simhash(8440240356449459322,64)),(\"3\",Simhash(9984379969213434071,64)),(\"1\",Simhash(8440240427182201978,64))],64,10,4,Dict{String,Set}(Pair{String,Set}(\"7:3\",Set(Any[\"f521c1f241169c6a,4\",\"7521c1e2c9161c7a,2\",\"7521c1f341161c7a,1\"])),Pair{String,Set}(\"2:3\",Set(Any[\"8a8fa4aeb77e08d7,3\"])),Pair{String,Set}(\"a:1\",Set(Any[\"f521c1f241169c6a,4\"])),Pair{String,Set}(\"1:9\",Set(Any[\"f521c1f241169c6a,4\",\"7521c1e2c9161c7a,2\",\"7521c1f341161c7a,1\"])),Pair{String,Set}(\"4:9\",Set(Any[\"8a8fa4aeb77e08d7,3\"])),Pair{String,Set}(\"22a3:b\",Set(Any[\"8a8fa4aeb77e08d7,3\"])),Pair{String,Set}(\"9:7\",Set(Any[\"f521c1f241169c6a,4\"])),Pair{String,Set}(\"3d48:b\",Set(Any[\"f521c1f241169c6a,4\"])),Pair{String,Set}(\"1e:8\",Set(Any[\"f521c1f241169c6a,4\",\"7521c1f341161c7a,1\"])),Pair{String,Set}(\"1d:a\",Set(Any[\"8a8fa4aeb77e08d7,3\"]))…),[0,5,10,15,20,25,30,35,40,45,50])"
      ]
     },
     "execution_count": 30,
     "metadata": {},
     "output_type": "execute_result"
    }
   ],
   "source": [
    "using Base.Test\n",
    "\n",
    "data = Dict{Int, String}(1=>\"How are you? I Am fine. blar blar blar blar blar Thanks.\",\n",
    "    2=>\"How are you i am fine. blar blar blar blar blar than\",\n",
    "    3=>\"This is simhash test.\",\n",
    "    4=>\"How are you i am fine. blar blar blar blar blar thank1\"\n",
    ")\n",
    "\n",
    "objs = [(\"$(k)\", Simhash(v, 64)) for (k,v) in collect(data)]\n",
    "\n",
    "simhash_index = SimhashIndex(objs, 64, 10)"
   ]
  },
  {
   "cell_type": "code",
   "execution_count": 31,
   "metadata": {
    "collapsed": false
   },
   "outputs": [
    {
     "name": "stdout",
     "output_type": "stream",
     "text": [
      "\u001b[1m\u001b[37mGet Near Dupes: \u001b[0m\u001b[1m\u001b[31mError During Test\n",
      "\u001b[0m  Got an exception of type KeyError outside of a @test\n",
      "  KeyError: key \"5:6\" not found\n",
      "   in getindex at ./dict.jl:688 [inlined]\n",
      "   in get_near_dups(::SimhashIndex, ::Simhash) at ./In[29]:65\n",
      "   in macro expansion; at ./In[31]:4 [inlined]\n",
      "   in macro expansion; at ./test.jl:672 [inlined]\n",
      "   in anonymous at ./<missing>:?\n",
      "   in include_string(::String, ::String) at ./loading.jl:441\n",
      "   in execute_request(::LastMain.LastMain.LastMain.LastMain.ZMQ.Socket, ::LastMain.LastMain.LastMain.LastMain.IJulia.Msg) at /Users/sparky/.julia/v0.5/IJulia/src/execute_request.jl:157\n",
      "   in eventloop(::LastMain.LastMain.LastMain.LastMain.ZMQ.Socket) at /Users/sparky/.julia/v0.5/IJulia/src/eventloop.jl:8\n",
      "   in (::LastMain.LastMain.LastMain.LastMain.IJulia.##13#19)() at ./task.jl:360\n",
      "\u001b[1m\u001b[37mTest Summary:  | \u001b[0m\u001b[1m\u001b[31mError  \u001b[0m\u001b[1m\u001b[34mTotal\u001b[0m\n",
      "  Get Near Dupes | \u001b[1m\u001b[31m    1  \u001b[0m\u001b[1m\u001b[34m    1\u001b[0m\n"
     ]
    },
    {
     "ename": "LoadError",
     "evalue": "Some tests did not pass: 0 passed, 0 failed, 1 errored, 0 broken.",
     "output_type": "error",
     "traceback": [
      "Some tests did not pass: 0 passed, 0 failed, 1 errored, 0 broken.",
      "",
      " in finish(::Base.Test.DefaultTestSet) at ./test.jl:495",
      " in macro expansion; at ./test.jl:679 [inlined]",
      " in anonymous at ./<missing>:?"
     ]
    }
   ],
   "source": [
    "@testset \"Get Near Dupes\" begin\n",
    "    s1 = Simhash(\"How are you i am fine.ablar ablar xyz blar blar blar blar blar blar blar thank\", 64)\n",
    "    dups = get_near_dups(simhash_index, s1)\n",
    "    @test length(dups) == 3\n",
    "end"
   ]
  },
  {
   "cell_type": "code",
   "execution_count": null,
   "metadata": {
    "collapsed": true
   },
   "outputs": [],
   "source": []
  }
 ],
 "metadata": {
  "kernelspec": {
   "display_name": "Julia 0.5.0",
   "language": "julia",
   "name": "julia-0.5"
  },
  "language_info": {
   "file_extension": ".jl",
   "mimetype": "application/julia",
   "name": "julia",
   "version": "0.5.0"
  }
 },
 "nbformat": 4,
 "nbformat_minor": 0
}
