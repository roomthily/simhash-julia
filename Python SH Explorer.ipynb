{
 "cells": [
  {
   "cell_type": "code",
   "execution_count": 7,
   "metadata": {
    "collapsed": true
   },
   "outputs": [],
   "source": [
    "import re\n",
    "import hashlib\n",
    "import logging\n",
    "import collections\n",
    "from itertools import groupby"
   ]
  },
  {
   "cell_type": "code",
   "execution_count": 8,
   "metadata": {
    "collapsed": true
   },
   "outputs": [],
   "source": [
    "def _hashfunc(x):\n",
    "    return int(hashlib.md5(x).hexdigest(), 16)"
   ]
  },
  {
   "cell_type": "code",
   "execution_count": 15,
   "metadata": {
    "collapsed": true
   },
   "outputs": [],
   "source": [
    "class Simhash(object):\n",
    "\n",
    "    def __init__(self, value, f=64, reg=r'[\\w\\u4e00-\\u9fcc]+', hashfunc=None):\n",
    "        \"\"\"\n",
    "        `f` is the dimensions of fingerprints\n",
    "        `reg` is meaningful only when `value` is basestring and describes\n",
    "        what is considered to be a letter inside parsed string. Regexp\n",
    "        object can also be specified (some attempt to handle any letters\n",
    "        is to specify reg=re.compile(r'\\w', re.UNICODE))\n",
    "        `hashfunc` accepts a utf-8 encoded string and returns a unsigned\n",
    "        integer in at least `f` bits.\n",
    "        \"\"\"\n",
    "\n",
    "        self.f = f\n",
    "        self.reg = reg\n",
    "        self.value = None\n",
    "\n",
    "        if hashfunc is None:\n",
    "            self.hashfunc = _hashfunc\n",
    "        else:\n",
    "            self.hashfunc = hashfunc\n",
    "\n",
    "        if isinstance(value, Simhash):\n",
    "            self.value = value.value\n",
    "        elif isinstance(value, basestring):\n",
    "            self.build_by_text(unicode(value))\n",
    "        elif isinstance(value, collections.Iterable):\n",
    "            self.build_by_features(value)\n",
    "        elif isinstance(value, long):\n",
    "            self.value = value\n",
    "        else:\n",
    "            raise Exception('Bad parameter with type {}'.format(type(value)))\n",
    "\n",
    "    def _slide(self, content, width=4):\n",
    "        return [content[i:i + width] for i in range(max(len(content) - width + 1, 1))]\n",
    "\n",
    "    def _tokenize(self, content):\n",
    "        content = content.lower()\n",
    "        content = ''.join(re.findall(self.reg, content))\n",
    "        ans = self._slide(content)\n",
    "        return ans\n",
    "\n",
    "    def build_by_text(self, content):\n",
    "        features = self._tokenize(content)\n",
    "        features = {k:sum(1 for _ in g) for k, g in groupby(sorted(features))}\n",
    "        return self.build_by_features(features)\n",
    "\n",
    "    def build_by_features(self, features):\n",
    "        \"\"\"\n",
    "        `features` might be a list of unweighted tokens (a weight of 1\n",
    "                   will be assumed), a list of (token, weight) tuples or\n",
    "                   a token -> weight dict.\n",
    "        \"\"\"\n",
    "        v = [0] * self.f\n",
    "        masks = [1 << i for i in range(self.f)]\n",
    "        if isinstance(features, dict):\n",
    "            features = features.items()\n",
    "        for f in features:\n",
    "            if isinstance(f, basestring):\n",
    "                h = self.hashfunc(f.encode('utf-8'))\n",
    "                w = 1\n",
    "            else:\n",
    "                assert isinstance(f, collections.Iterable)\n",
    "                h = self.hashfunc(f[0].encode('utf-8'))\n",
    "                w = f[1]\n",
    "            for i in range(self.f):\n",
    "                v[i] += w if h & masks[i] else -w\n",
    "        ans = 0\n",
    "        for i in range(self.f):\n",
    "            if v[i] >= 0:\n",
    "                ans |= masks[i]\n",
    "        self.value = ans\n",
    "\n",
    "    def distance(self, another):\n",
    "        assert self.f == another.f\n",
    "        x = (self.value ^ another.value) & ((1 << self.f) - 1)\n",
    "        ans = 0\n",
    "        while x:\n",
    "            ans += 1\n",
    "            x &= x - 1\n",
    "        return ans\n",
    "\n",
    "\n",
    "class SimhashIndex(object):\n",
    "\n",
    "    def __init__(self, objs, f=64, k=2):\n",
    "        \"\"\"\n",
    "        `objs` is a list of (obj_id, simhash)\n",
    "        obj_id is a string, simhash is an instance of Simhash\n",
    "        `f` is the same with the one for Simhash\n",
    "        `k` is the tolerance\n",
    "        \"\"\"\n",
    "        self.k = k\n",
    "        self.f = f\n",
    "        count = len(objs)\n",
    "        logging.info('Initializing %s data.', count)\n",
    "\n",
    "        self.bucket = collections.defaultdict(set)\n",
    "\n",
    "        for i, q in enumerate(objs):\n",
    "            if i % 10000 == 0 or i == count - 1:\n",
    "                logging.info('%s/%s', i + 1, count)\n",
    "\n",
    "            self.add(*q)\n",
    "\n",
    "    def get_near_dups(self, simhash):\n",
    "        \"\"\"\n",
    "        `simhash` is an instance of Simhash\n",
    "        return a list of obj_id, which is in type of str\n",
    "        \"\"\"\n",
    "        assert simhash.f == self.f\n",
    "\n",
    "        ans = set()\n",
    "        \n",
    "        print [y for y in self.get_keys(simhash)]\n",
    "        print self.bucket.keys()\n",
    "        print '*'*40\n",
    "\n",
    "        for key in self.get_keys(simhash):\n",
    "            dups = self.bucket[key]\n",
    "            logging.debug('key:%s', key)\n",
    "            if len(dups) > 200:\n",
    "                logging.warning('Big bucket found. key:%s, len:%s', key, len(dups))\n",
    "\n",
    "            for dup in dups:\n",
    "                sim2, obj_id = dup.split(',', 1)\n",
    "                sim2 = Simhash(long(sim2, 16), self.f)\n",
    "\n",
    "                d = simhash.distance(sim2)\n",
    "                if d <= self.k:\n",
    "                    ans.add(obj_id)\n",
    "        return list(ans)\n",
    "\n",
    "    def add(self, obj_id, simhash):\n",
    "        \"\"\"\n",
    "        `obj_id` is a string\n",
    "        `simhash` is an instance of Simhash\n",
    "        \"\"\"\n",
    "        assert simhash.f == self.f\n",
    "\n",
    "        print 'OBJ_ID = ', obj_id, '; value = ', simhash.value\n",
    "        print 'KEYS => ', [e for e in self.get_keys(simhash)]\n",
    "        for key in self.get_keys(simhash):\n",
    "            v = '%x,%s' % (simhash.value, obj_id)\n",
    "            print '\\tkey => ', key, '; current set => ', self.bucket[key]\n",
    "            self.bucket[key].add(v)\n",
    "\n",
    "    def delete(self, obj_id, simhash):\n",
    "        \"\"\"\n",
    "        `obj_id` is a string\n",
    "        `simhash` is an instance of Simhash\n",
    "        \"\"\"\n",
    "        assert simhash.f == self.f\n",
    "\n",
    "        for key in self.get_keys(simhash):\n",
    "            v = '%x,%s' % (simhash.value, obj_id)\n",
    "            if v in self.bucket[key]:\n",
    "                self.bucket[key].remove(v)\n",
    "\n",
    "    @property\n",
    "    def offsets(self):\n",
    "        \"\"\"\n",
    "        You may optimize this method according to <http://www.wwwconference.org/www2007/papers/paper215.pdf>\n",
    "        \"\"\"\n",
    "        return [self.f // (self.k + 1) * i for i in range(self.k + 1)]\n",
    "\n",
    "    def get_keys(self, simhash):\n",
    "        for i, offset in enumerate(self.offsets):\n",
    "            if i == (len(self.offsets) - 1):\n",
    "                m = 2 ** (self.f - offset) - 1\n",
    "            else:\n",
    "                m = 2 ** (self.offsets[i + 1] - offset) - 1\n",
    "            c = simhash.value >> offset & m\n",
    "            yield '%x:%x' % (c, i)\n",
    "\n",
    "    def bucket_size(self):\n",
    "        return len(self.bucket)"
   ]
  },
  {
   "cell_type": "code",
   "execution_count": 16,
   "metadata": {
    "collapsed": false
   },
   "outputs": [
    {
     "name": "stdout",
     "output_type": "stream",
     "text": [
      "OBJ_ID =  1 ; value =  8476273622247677034\n",
      "KEYS =>  ['a:0', '3:1', '7:2', 'c:3', '11:4', '0:5', 'd:6', '1e:7', '5:8', 'e:9', '1d68:a']\n",
      "\tkey =>  a:0 ; current set =>  set([])\n",
      "\tkey =>  3:1 ; current set =>  set([])\n",
      "\tkey =>  7:2 ; current set =>  set([])\n",
      "\tkey =>  c:3 ; current set =>  set([])\n",
      "\tkey =>  11:4 ; current set =>  set([])\n",
      "\tkey =>  0:5 ; current set =>  set([])\n",
      "\tkey =>  d:6 ; current set =>  set([])\n",
      "\tkey =>  1e:7 ; current set =>  set([])\n",
      "\tkey =>  5:8 ; current set =>  set([])\n",
      "\tkey =>  e:9 ; current set =>  set([])\n",
      "\tkey =>  1d68:a ; current set =>  set([])\n",
      "OBJ_ID =  2 ; value =  8440240356449459322\n",
      "KEYS =>  ['1a:0', '3:1', '7:2', 'c:3', '11:4', '4:5', 'b:6', '1c:7', '1:8', 'e:9', '1d48:a']\n",
      "\tkey =>  1a:0 ; current set =>  set([])\n",
      "\tkey =>  3:1 ; current set =>  set(['75a1c5f341161c6a,1'])\n",
      "\tkey =>  7:2 ; current set =>  set(['75a1c5f341161c6a,1'])\n",
      "\tkey =>  c:3 ; current set =>  set(['75a1c5f341161c6a,1'])\n",
      "\tkey =>  11:4 ; current set =>  set(['75a1c5f341161c6a,1'])\n",
      "\tkey =>  4:5 ; current set =>  set([])\n",
      "\tkey =>  b:6 ; current set =>  set([])\n",
      "\tkey =>  1c:7 ; current set =>  set([])\n",
      "\tkey =>  1:8 ; current set =>  set([])\n",
      "\tkey =>  e:9 ; current set =>  set(['75a1c5f341161c6a,1'])\n",
      "\tkey =>  1d48:a ; current set =>  set([])\n",
      "OBJ_ID =  3 ; value =  9984379969213434071\n",
      "KEYS =>  ['17:0', '6:1', '2:2', '1c:3', '17:4', '1b:5', '1a:6', '15:7', '4:8', '1d:9', '22a3:a']\n",
      "\tkey =>  17:0 ; current set =>  set([])\n",
      "\tkey =>  6:1 ; current set =>  set([])\n",
      "\tkey =>  2:2 ; current set =>  set([])\n",
      "\tkey =>  1c:3 ; current set =>  set([])\n",
      "\tkey =>  17:4 ; current set =>  set([])\n",
      "\tkey =>  1b:5 ; current set =>  set([])\n",
      "\tkey =>  1a:6 ; current set =>  set([])\n",
      "\tkey =>  15:7 ; current set =>  set([])\n",
      "\tkey =>  4:8 ; current set =>  set([])\n",
      "\tkey =>  1d:9 ; current set =>  set([])\n",
      "\tkey =>  22a3:a ; current set =>  set([])\n",
      "OBJ_ID =  4 ; value =  17663612459742043242\n",
      "KEYS =>  ['a:0', '3:1', '7:2', 'd:3', '11:4', '0:5', '9:6', '1e:7', '1:8', 'e:9', '3d48:a']\n",
      "\tkey =>  a:0 ; current set =>  set(['75a1c5f341161c6a,1'])\n",
      "\tkey =>  3:1 ; current set =>  set(['7521c1e2c9161c7a,2', '75a1c5f341161c6a,1'])\n",
      "\tkey =>  7:2 ; current set =>  set(['7521c1e2c9161c7a,2', '75a1c5f341161c6a,1'])\n",
      "\tkey =>  d:3 ; current set =>  set([])\n",
      "\tkey =>  11:4 ; current set =>  set(['7521c1e2c9161c7a,2', '75a1c5f341161c6a,1'])\n",
      "\tkey =>  0:5 ; current set =>  set(['75a1c5f341161c6a,1'])\n",
      "\tkey =>  9:6 ; current set =>  set([])\n",
      "\tkey =>  1e:7 ; current set =>  set(['75a1c5f341161c6a,1'])\n",
      "\tkey =>  1:8 ; current set =>  set(['7521c1e2c9161c7a,2'])\n",
      "\tkey =>  e:9 ; current set =>  set(['7521c1e2c9161c7a,2', '75a1c5f341161c6a,1'])\n",
      "\tkey =>  3d48:a ; current set =>  set([])\n"
     ]
    }
   ],
   "source": [
    "# test data\n",
    "data = {\n",
    "    1: 'How are you? I Am fine. blar blar blar blar blar Thanks.',\n",
    "    2: 'How are you i am fine. blar blar blar blar blar than',\n",
    "    3: 'This is simhash test.',\n",
    "    4: 'How are you i am fine. blar blar blar blar blar thank1',\n",
    "}\n",
    "\n",
    "objs = [(str(k), Simhash(v)) for k, v in data.items()]\n",
    "index = SimhashIndex(objs, k=10)"
   ]
  },
  {
   "cell_type": "code",
   "execution_count": 12,
   "metadata": {
    "collapsed": false
   },
   "outputs": [
    {
     "data": {
      "text/plain": [
       "defaultdict(set,\n",
       "            {'0:5': {'75a1c5f341161c6a,1', 'f521c1f241169c6a,4'},\n",
       "             '11:4': {'7521c1e2c9161c7a,2',\n",
       "              '75a1c5f341161c6a,1',\n",
       "              'f521c1f241169c6a,4'},\n",
       "             '15:7': {'8a8fa4aeb77e08d7,3'},\n",
       "             '17:0': {'8a8fa4aeb77e08d7,3'},\n",
       "             '17:4': {'8a8fa4aeb77e08d7,3'},\n",
       "             '1:8': {'7521c1e2c9161c7a,2', 'f521c1f241169c6a,4'},\n",
       "             '1a:0': {'7521c1e2c9161c7a,2'},\n",
       "             '1a:6': {'8a8fa4aeb77e08d7,3'},\n",
       "             '1b:5': {'8a8fa4aeb77e08d7,3'},\n",
       "             '1c:3': {'8a8fa4aeb77e08d7,3'},\n",
       "             '1c:7': {'7521c1e2c9161c7a,2'},\n",
       "             '1d48:a': {'7521c1e2c9161c7a,2'},\n",
       "             '1d68:a': {'75a1c5f341161c6a,1'},\n",
       "             '1d:9': {'8a8fa4aeb77e08d7,3'},\n",
       "             '1e:7': {'75a1c5f341161c6a,1', 'f521c1f241169c6a,4'},\n",
       "             '22a3:a': {'8a8fa4aeb77e08d7,3'},\n",
       "             '2:2': {'8a8fa4aeb77e08d7,3'},\n",
       "             '3:1': {'7521c1e2c9161c7a,2',\n",
       "              '75a1c5f341161c6a,1',\n",
       "              'f521c1f241169c6a,4'},\n",
       "             '3d48:a': {'f521c1f241169c6a,4'},\n",
       "             '4:5': {'7521c1e2c9161c7a,2'},\n",
       "             '4:8': {'8a8fa4aeb77e08d7,3'},\n",
       "             '5:8': {'75a1c5f341161c6a,1'},\n",
       "             '6:1': {'8a8fa4aeb77e08d7,3'},\n",
       "             '7:2': {'7521c1e2c9161c7a,2',\n",
       "              '75a1c5f341161c6a,1',\n",
       "              'f521c1f241169c6a,4'},\n",
       "             '9:6': {'f521c1f241169c6a,4'},\n",
       "             'a:0': {'75a1c5f341161c6a,1', 'f521c1f241169c6a,4'},\n",
       "             'b:6': {'7521c1e2c9161c7a,2'},\n",
       "             'c:3': {'7521c1e2c9161c7a,2', '75a1c5f341161c6a,1'},\n",
       "             'd:3': {'f521c1f241169c6a,4'},\n",
       "             'd:6': {'75a1c5f341161c6a,1'},\n",
       "             'e:9': {'7521c1e2c9161c7a,2',\n",
       "              '75a1c5f341161c6a,1',\n",
       "              'f521c1f241169c6a,4'}})"
      ]
     },
     "execution_count": 12,
     "metadata": {},
     "output_type": "execute_result"
    }
   ],
   "source": [
    "# for k, v in index.bucket:\n",
    "#     print(k, ' => ', ','.join(v))\n",
    "index.bucket"
   ]
  },
  {
   "cell_type": "code",
   "execution_count": 7,
   "metadata": {
    "collapsed": false
   },
   "outputs": [
    {
     "name": "stdout",
     "output_type": "stream",
     "text": [
      "8476273622247677034\n",
      "75a1c5f341161c6a,1\n",
      "----------\n",
      "8440240356449459322\n",
      "7521c1e2c9161c7a,2\n",
      "----------\n",
      "9984379969213434071\n",
      "8a8fa4aeb77e08d7,3\n",
      "----------\n",
      "17663612459742043242\n",
      "f521c1f241169c6a,4\n",
      "----------\n"
     ]
    }
   ],
   "source": [
    "for i, o in objs:\n",
    "    print(o.value)\n",
    "    print('%x,%s' % (o.value, i))\n",
    "    print '-'*10"
   ]
  },
  {
   "cell_type": "code",
   "execution_count": 6,
   "metadata": {
    "collapsed": false
   },
   "outputs": [
    {
     "data": {
      "text/plain": [
       "8476273622247677034"
      ]
     },
     "execution_count": 6,
     "metadata": {},
     "output_type": "execute_result"
    }
   ],
   "source": [
    "s = Simhash('How are you? I Am fine. blar blar blar blar blar Thanks.')\n",
    "s.value"
   ]
  },
  {
   "cell_type": "code",
   "execution_count": 17,
   "metadata": {
    "collapsed": false
   },
   "outputs": [
    {
     "name": "stdout",
     "output_type": "stream",
     "text": [
      "['1a:0', '3:1', '7:2', 'c:3', '11:4', '5:5', '9:6', '1e:7', '1:8', 'e:9', '3d08:a']\n",
      "['e:9', '9:6', 'c:3', '3d48:a', '15:7', 'd:3', '1a:0', '2:2', '1d48:a', '4:8', '22a3:a', '1:8', '4:5', '1a:6', '0:5', '1c:3', '1b:5', '1d68:a', '1c:7', '5:8', '3:1', '1d:9', 'b:6', '11:4', '7:2', '17:4', '17:0', 'd:6', 'a:0', '6:1', '1e:7']\n",
      "****************************************\n"
     ]
    },
    {
     "data": {
      "text/plain": [
       "['1', '2', '4']"
      ]
     },
     "execution_count": 17,
     "metadata": {},
     "output_type": "execute_result"
    }
   ],
   "source": [
    "s1 = Simhash(u'How are you i am fine.ablar ablar xyz blar blar blar blar blar blar blar thank')\n",
    "dups = index.get_near_dups(s1)\n",
    "dups"
   ]
  },
  {
   "cell_type": "code",
   "execution_count": 15,
   "metadata": {
    "collapsed": false
   },
   "outputs": [
    {
     "data": {
      "text/plain": [
       "{'0:5': {'75a1c5f341161c6a,1', 'f521c1f241169c6a,4'},\n",
       " '11:4': {'7521c1e2c9161c7a,2', '75a1c5f341161c6a,1', 'f521c1f241169c6a,4'},\n",
       " '15:7': {'8a8fa4aeb77e08d7,3'},\n",
       " '17:0': {'8a8fa4aeb77e08d7,3'},\n",
       " '17:4': {'8a8fa4aeb77e08d7,3'},\n",
       " '1:8': {'7521c1e2c9161c7a,2', 'f521c1f241169c6a,4'},\n",
       " '1a:0': {'7521c1e2c9161c7a,2'},\n",
       " '1a:6': {'8a8fa4aeb77e08d7,3'},\n",
       " '1b:5': {'8a8fa4aeb77e08d7,3'},\n",
       " '1c:3': {'8a8fa4aeb77e08d7,3'},\n",
       " '1c:7': {'7521c1e2c9161c7a,2'},\n",
       " '1d48:a': {'7521c1e2c9161c7a,2'},\n",
       " '1d68:a': {'75a1c5f341161c6a,1'},\n",
       " '1d:9': {'8a8fa4aeb77e08d7,3'},\n",
       " '1e:7': {'75a1c5f341161c6a,1', 'f521c1f241169c6a,4'},\n",
       " '22a3:a': {'8a8fa4aeb77e08d7,3'},\n",
       " '2:2': {'8a8fa4aeb77e08d7,3'},\n",
       " '3:1': {'7521c1e2c9161c7a,2', '75a1c5f341161c6a,1', 'f521c1f241169c6a,4'},\n",
       " '3d48:a': {'f521c1f241169c6a,4'},\n",
       " '4:5': {'7521c1e2c9161c7a,2'},\n",
       " '4:8': {'8a8fa4aeb77e08d7,3'},\n",
       " '5:8': {'75a1c5f341161c6a,1'},\n",
       " '6:1': {'8a8fa4aeb77e08d7,3'},\n",
       " '7:2': {'7521c1e2c9161c7a,2', '75a1c5f341161c6a,1', 'f521c1f241169c6a,4'},\n",
       " '9:6': {'f521c1f241169c6a,4'},\n",
       " 'a:0': {'75a1c5f341161c6a,1', 'f521c1f241169c6a,4'},\n",
       " 'b:6': {'7521c1e2c9161c7a,2'},\n",
       " 'c:3': {'7521c1e2c9161c7a,2', '75a1c5f341161c6a,1'},\n",
       " 'd:3': {'f521c1f241169c6a,4'},\n",
       " 'd:6': {'75a1c5f341161c6a,1'},\n",
       " 'e:9': {'7521c1e2c9161c7a,2', '75a1c5f341161c6a,1', 'f521c1f241169c6a,4'}}"
      ]
     },
     "execution_count": 15,
     "metadata": {},
     "output_type": "execute_result"
    }
   ],
   "source": [
    "{'0:5': {'75a1c5f341161c6a,1', 'f521c1f241169c6a,4'},\n",
    "             '11:4': {'7521c1e2c9161c7a,2',\n",
    "              '75a1c5f341161c6a,1',\n",
    "              'f521c1f241169c6a,4'},\n",
    "             '15:7': {'8a8fa4aeb77e08d7,3'},\n",
    "             '17:0': {'8a8fa4aeb77e08d7,3'},\n",
    "             '17:4': {'8a8fa4aeb77e08d7,3'},\n",
    "             '1:8': {'7521c1e2c9161c7a,2', 'f521c1f241169c6a,4'},\n",
    "             '1a:0': {'7521c1e2c9161c7a,2'},\n",
    "             '1a:6': {'8a8fa4aeb77e08d7,3'},\n",
    "             '1b:5': {'8a8fa4aeb77e08d7,3'},\n",
    "             '1c:3': {'8a8fa4aeb77e08d7,3'},\n",
    "             '1c:7': {'7521c1e2c9161c7a,2'},\n",
    "             '1d48:a': {'7521c1e2c9161c7a,2'},\n",
    "             '1d68:a': {'75a1c5f341161c6a,1'},\n",
    "             '1d:9': {'8a8fa4aeb77e08d7,3'},\n",
    "             '1e:7': {'75a1c5f341161c6a,1', 'f521c1f241169c6a,4'},\n",
    "             '22a3:a': {'8a8fa4aeb77e08d7,3'},\n",
    "             '2:2': {'8a8fa4aeb77e08d7,3'},\n",
    "             '3:1': {'7521c1e2c9161c7a,2',\n",
    "              '75a1c5f341161c6a,1',\n",
    "              'f521c1f241169c6a,4'},\n",
    "             '3d48:a': {'f521c1f241169c6a,4'},\n",
    "             '4:5': {'7521c1e2c9161c7a,2'},\n",
    "             '4:8': {'8a8fa4aeb77e08d7,3'},\n",
    "             '5:8': {'75a1c5f341161c6a,1'},\n",
    "             '6:1': {'8a8fa4aeb77e08d7,3'},\n",
    "             '7:2': {'7521c1e2c9161c7a,2',\n",
    "              '75a1c5f341161c6a,1',\n",
    "              'f521c1f241169c6a,4'},\n",
    "             '9:6': {'f521c1f241169c6a,4'},\n",
    "             'a:0': {'75a1c5f341161c6a,1', 'f521c1f241169c6a,4'},\n",
    "             'b:6': {'7521c1e2c9161c7a,2'},\n",
    "             'c:3': {'7521c1e2c9161c7a,2', '75a1c5f341161c6a,1'},\n",
    "             'd:3': {'f521c1f241169c6a,4'},\n",
    "             'd:6': {'75a1c5f341161c6a,1'},\n",
    "             'e:9': {'7521c1e2c9161c7a,2',\n",
    "              '75a1c5f341161c6a,1',\n",
    "              'f521c1f241169c6a,4'}}"
   ]
  },
  {
   "cell_type": "code",
   "execution_count": 7,
   "metadata": {
    "collapsed": false
   },
   "outputs": [],
   "source": [
    "s1 = Simhash(\"How are you i am fine.ablar ablar xyz blar blar blar blar blar blar blar thank\", 64)\n",
    "dups = index.get_near_dups(s1)"
   ]
  },
  {
   "cell_type": "code",
   "execution_count": null,
   "metadata": {
    "collapsed": true
   },
   "outputs": [],
   "source": []
  },
  {
   "cell_type": "code",
   "execution_count": 8,
   "metadata": {
    "collapsed": false
   },
   "outputs": [
    {
     "data": {
      "text/plain": [
       "['1', '2', '4']"
      ]
     },
     "execution_count": 8,
     "metadata": {},
     "output_type": "execute_result"
    }
   ],
   "source": [
    "dups"
   ]
  },
  {
   "cell_type": "code",
   "execution_count": 18,
   "metadata": {
    "collapsed": true
   },
   "outputs": [],
   "source": [
    "z = collections.defaultdict(set)\n",
    "z['a'] = {1, 2, 3}"
   ]
  },
  {
   "cell_type": "code",
   "execution_count": 19,
   "metadata": {
    "collapsed": false
   },
   "outputs": [
    {
     "data": {
      "text/plain": [
       "set()"
      ]
     },
     "execution_count": 19,
     "metadata": {},
     "output_type": "execute_result"
    }
   ],
   "source": [
    "z['b']"
   ]
  },
  {
   "cell_type": "code",
   "execution_count": null,
   "metadata": {
    "collapsed": true
   },
   "outputs": [],
   "source": []
  }
 ],
 "metadata": {
  "kernelspec": {
   "display_name": "Python 2",
   "language": "python",
   "name": "python2"
  },
  "language_info": {
   "codemirror_mode": {
    "name": "ipython",
    "version": 2
   },
   "file_extension": ".py",
   "mimetype": "text/x-python",
   "name": "python",
   "nbconvert_exporter": "python",
   "pygments_lexer": "ipython2",
   "version": "2.7.11"
  }
 },
 "nbformat": 4,
 "nbformat_minor": 0
}
