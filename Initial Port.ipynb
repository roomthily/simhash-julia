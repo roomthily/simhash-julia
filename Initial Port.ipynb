{
 "cells": [
  {
   "cell_type": "markdown",
   "metadata": {
    "collapsed": true
   },
   "source": [
    "Port of the simhash algo (from a python port) in julia lang."
   ]
  },
  {
   "cell_type": "code",
   "execution_count": 6,
   "metadata": {
    "collapsed": true
   },
   "outputs": [],
   "source": [
    "# run to reload the workspace/types and avoid the method overwrite warning\n",
    "workspace()"
   ]
  },
  {
   "cell_type": "code",
   "execution_count": 7,
   "metadata": {
    "collapsed": false
   },
   "outputs": [
    {
     "name": "stderr",
     "output_type": "stream",
     "text": [
      "WARNING: Method definition redirect_stderr(Function, Any) in module Compat at /Users/sparky/.julia/v0.5/Compat/src/Compat.jl:1602 overwritten in module Compat at /Users/sparky/.julia/v0.5/Compat/src/Compat.jl:1602.\n",
      "WARNING: Method definition redirect_stdout(Function, Any) in module Compat at /Users/sparky/.julia/v0.5/Compat/src/Compat.jl:1602 overwritten in module Compat at /Users/sparky/.julia/v0.5/Compat/src/Compat.jl:1602.\n",
      "WARNING: Method definition take!(Main.Base.AbstractIOBuffer) in module Compat at /Users/sparky/.julia/v0.5/Compat/src/Compat.jl:1708 overwritten in module Compat at /Users/sparky/.julia/v0.5/Compat/src/Compat.jl:1708.\n",
      "WARNING: Method definition !(Function) in module Compat at /Users/sparky/.julia/v0.5/Compat/src/Compat.jl:1741 overwritten in module Compat at /Users/sparky/.julia/v0.5/Compat/src/Compat.jl:1741.\n",
      "WARNING: Method definition isnull(Any) in module Compat at /Users/sparky/.julia/v0.5/Compat/src/Compat.jl:1680 overwritten in module Compat at /Users/sparky/.julia/v0.5/Compat/src/Compat.jl:1680.\n",
      "WARNING: Method definition redirect_stdin(Function, Any) in module Compat at /Users/sparky/.julia/v0.5/Compat/src/Compat.jl:1602 overwritten in module Compat at /Users/sparky/.julia/v0.5/Compat/src/Compat.jl:1602.\n",
      "WARNING: Method definition count() in module Iterators at deprecated.jl:49 overwritten in module Iterators at deprecated.jl:49.\n",
      "WARNING: Method definition count(Number) in module Iterators at deprecated.jl:49 overwritten in module Iterators at deprecated.jl:49.\n",
      "WARNING: Method definition count(Number, Number) in module Iterators at deprecated.jl:49 overwritten in module Iterators at deprecated.jl:49.\n"
     ]
    }
   ],
   "source": [
    "using Nettle\n",
    "using Formatting\n",
    "using Iterators"
   ]
  },
  {
   "cell_type": "code",
   "execution_count": 8,
   "metadata": {
    "collapsed": false
   },
   "outputs": [
    {
     "data": {
      "text/plain": [
       "r\"\\w+\""
      ]
     },
     "execution_count": 8,
     "metadata": {},
     "output_type": "execute_result"
    }
   ],
   "source": [
    "_regex = r\"\\w+\"\n",
    "# default in py : r\"[\\w\\u4e00-\\u9fcc]+\"\n",
    "# going with the more straightforward get the words"
   ]
  },
  {
   "cell_type": "code",
   "execution_count": 9,
   "metadata": {
    "collapsed": false
   },
   "outputs": [
    {
     "data": {
      "text/plain": [
       "build_by_features (generic function with 1 method)"
      ]
     },
     "execution_count": 9,
     "metadata": {},
     "output_type": "execute_result"
    }
   ],
   "source": [
    "type Simhash\n",
    "    # this, unfortunately, does not hash on init\n",
    "    value\n",
    "    f::Int\n",
    "    \n",
    "    function Simhash(value::BigInt, f::Int)\n",
    "        # assuming this is the hashed simhash value\n",
    "        # that was generated previously\n",
    "        new(value, f)\n",
    "    end\n",
    "    function Simhash(value::AbstractString, f::Int)\n",
    "        v = build_by_text(value, f)\n",
    "        new(v, f)\n",
    "    end\n",
    "    function Simhash(value::Dict, f::Int)\n",
    "        v = build_by_features(value, f)\n",
    "        new(v, f)\n",
    "    end\n",
    "    function Simhash(value::AbstractArray, f::Int)\n",
    "        v = build_by_features(value, f)\n",
    "        new(v, f)\n",
    "    end\n",
    "    function Simhash(s::Simhash)\n",
    "        new(s.value, s.f)\n",
    "    end\n",
    "end\n",
    "\n",
    "function _hashfunc(x)\n",
    "    h = Hasher(\"md5\")\n",
    "    update!(h, x)\n",
    "    return parse(BigInt, hexdigest!(h), 16)\n",
    "end\n",
    "\n",
    "function distance(one::Simhash, another::Simhash)\n",
    "    # this is ridiculous, julia\n",
    "    x =  BigInt((one.value $ another.value) & ((BigInt(1) << BigInt(one.f)) - BigInt(1)))\n",
    "    ans = 0\n",
    "    while x > 0\n",
    "        ans += 1\n",
    "        x &= x - 1\n",
    "    end\n",
    "    return ans\n",
    "end\n",
    "\n",
    "function _tokenize(content::String)\n",
    "    content = lowercase(content)\n",
    "    content = join(matchall(_regex, content), \"\")\n",
    "    return _slide(content)\n",
    "end\n",
    "\n",
    "function _slide(content::String, width=4)\n",
    "    return [content[i:i + width - 1] for i in 1:max(length(content) - width, 1) + 1] \n",
    "end\n",
    "\n",
    "function build_by_text(content::String, f)\n",
    "    features = _tokenize(content)\n",
    "    fdict = Dict{String, Integer}(g[1] => length(g) for g = groupby(x -> x, sort(features)))\n",
    "    return build_by_features(fdict, f)\n",
    "end\n",
    "\n",
    "function build_by_features(features::Any, f)\n",
    "    v = zeros(f)\n",
    "    masks = [BigInt(1) << BigInt(i-1) for i in 1:f]\n",
    "    \n",
    "    if isa(features, Dict)\n",
    "        # to list of tuples\n",
    "        features = collect(features)\n",
    "    end\n",
    "    \n",
    "    for feat in features\n",
    "        # strings are by default unicode\n",
    "        if isa(feat, String)\n",
    "            h = _hashfunc(feat)\n",
    "            w = 1\n",
    "        else\n",
    "            # without assertion for the iterables\n",
    "            h = _hashfunc(feat[1])\n",
    "            w = feat[2] \n",
    "        end\n",
    "            \n",
    "        for i in 1:f\n",
    "            v[i] += h & masks[i] != 0 ? w : -w\n",
    "        end\n",
    "    end\n",
    "    \n",
    "    ans = 0\n",
    "    for i in 1:f\n",
    "        if v[i] >= 0\n",
    "            ans |= masks[i] \n",
    "        end\n",
    "    end\n",
    "    \n",
    "    # numeric rep of the string/iterable\n",
    "    return ans\n",
    "end"
   ]
  },
  {
   "cell_type": "code",
   "execution_count": 10,
   "metadata": {
    "collapsed": false
   },
   "outputs": [
    {
     "data": {
      "text/plain": [
       "39"
      ]
     },
     "execution_count": 10,
     "metadata": {},
     "output_type": "execute_result"
    }
   ],
   "source": [
    "s1 = Simhash(_hashfunc(\"23456\"), 64)\n",
    "s2 = Simhash(_hashfunc(\"23455\"), 64)\n",
    "\n",
    "# println(distance(s1, s2))\n",
    "\n",
    "distance(s1, s2)\n",
    "\n"
   ]
  },
  {
   "cell_type": "code",
   "execution_count": 11,
   "metadata": {
    "collapsed": false
   },
   "outputs": [
    {
     "data": {
      "text/plain": [
       "Simhash(8637903533912358349,64)"
      ]
     },
     "execution_count": 11,
     "metadata": {},
     "output_type": "execute_result"
    }
   ],
   "source": [
    "s = Simhash([\"aaa\", \"bbb\"], 64)\n",
    "# this says there's something off with the bitwise ops still\n",
    "# regardless of the py long -> jl int128 problems"
   ]
  },
  {
   "cell_type": "code",
   "execution_count": 40,
   "metadata": {
    "collapsed": false
   },
   "outputs": [
    {
     "data": {
      "text/plain": [
       "UInt128"
      ]
     },
     "execution_count": 40,
     "metadata": {},
     "output_type": "execute_result"
    }
   ],
   "source": [
    "typeof(s.value)"
   ]
  },
  {
   "cell_type": "code",
   "execution_count": 12,
   "metadata": {
    "collapsed": false
   },
   "outputs": [
    {
     "data": {
      "text/plain": [
       "\u001b[1m\u001b[32mTest Passed\n",
       "\u001b[0m  Expression: Simhash([\"aaa\",\"bbb\"],64).value == 8637903533912358349\n",
       "   Evaluated: 8637903533912358349 == 8637903533912358349"
      ]
     },
     "execution_count": 12,
     "metadata": {},
     "output_type": "execute_result"
    }
   ],
   "source": [
    "using Base.Test\n",
    "\n",
    "@test Simhash([\"aaa\", \"bbb\"], 64).value == 8637903533912358349\n"
   ]
  },
  {
   "cell_type": "code",
   "execution_count": null,
   "metadata": {
    "collapsed": true
   },
   "outputs": [],
   "source": [
    "# port of the SimHashIndex class\n",
    "\n",
    "_fe = FormatExpr(\"{1:x},{2}\")\n",
    "\n",
    "type SimhashIndex \n",
    "    # from py : list of tuples\n",
    "    objs\n",
    "    f::Int64\n",
    "    k::Float16\n",
    "    \n",
    "    count::Int16\n",
    "    \n",
    "    # from py : default dict of sets\n",
    "    bucket \n",
    "    \n",
    "    # init the bucket with the objs in the list\n",
    "    function _init\n",
    "        bucket = Dict{String, Set}\n",
    "        \n",
    "        for i, q in enumerate(objs)\n",
    "            # ignoring the logging here\n",
    "            (bucket).add(*q) # SUPER DUPER UNPORTED\n",
    "            \n",
    "            # *[list]\n",
    "        end\n",
    "    end\n",
    "end\n",
    "\n",
    "function _get_keys(simhash)\n",
    "    # UNPORTED\n",
    "    \n",
    "end\n",
    "\n",
    "# ADD ALL THE INDEX REFS BITS\n",
    "function get_near_dups(simhash)\n",
    "    # simhash = simhash obj to check against index\n",
    "    ans = Set()\n",
    "    \n",
    "    for key in _get_keys(simhash)\n",
    "        dups = bucket[key]\n",
    "        \n",
    "        if length(dups) > 200\n",
    "            println(\"Warning: big bucket found: \", key) \n",
    "        end\n",
    "        \n",
    "        for dup in dups\n",
    "           # UNPORTED\n",
    "            simhash2, obj_id = split(dup, ',') # dup.split(',', 1)\n",
    "            simhash2 = Simhash(simhash2, f) # Simhash(long(sim2, 16), self.f)\n",
    "            \n",
    "            d = simhash.distance(simhash2)\n",
    "            if d <= k\n",
    "                ans.add(obj_id) \n",
    "            end\n",
    "        end\n",
    "    end\n",
    "    \n",
    "    return ans # CONVERT TO LIST from a set\n",
    "end\n",
    "\n",
    "function add_to_index(obj_id, simhash)\n",
    "    # string, simhash\n",
    "    for key in _get_keys(simhash)\n",
    "        v = printfmt(fe, simhash.value, obj_id) \n",
    "        push!(bucket[key], v)\n",
    "    end\n",
    "end\n",
    "\n",
    "function delete_from_index(obj_id, simhash)\n",
    "    # string, simhash\n",
    "    for key in _get_keys(simhash)\n",
    "        v = printfmt(fe, simhash.value, obj_id)\n",
    "        delete!(bucket[key], v)\n",
    "    end\n",
    "end\n",
    "\n",
    "# @property equivalent\n",
    "function offsets\n",
    "    # per the orig.: You may optimize this method according to \n",
    "    #     <http://www.wwwconference.org/www2007/papers/paper215.pdf>\n",
    "    \n",
    "    # [self.f // (self.k + 1) * i for i in range(self.k + 1)]\n",
    "    return [f // (k+1) * i for i in 1:(k+1)]\n",
    "end\n"
   ]
  },
  {
   "cell_type": "code",
   "execution_count": 30,
   "metadata": {
    "collapsed": false
   },
   "outputs": [
    {
     "data": {
      "text/plain": [
       "\"17988778886168394363bob\""
      ]
     },
     "execution_count": 30,
     "metadata": {},
     "output_type": "execute_result"
    }
   ],
   "source": [
    "content = \"1798877888 6168394363 bob\"\n",
    "# _regex = r\"[\\w\\u4e00-\\u9fcc]+\"\n",
    "# _regex = r\"[\\w\\x{4E00}-\\x{9FCC}]+\"\n",
    "_regex = r\"\\w+\"\n",
    "\n",
    "\n",
    "join(matchall(_regex, content), \"\")"
   ]
  },
  {
   "cell_type": "code",
   "execution_count": 1,
   "metadata": {
    "collapsed": false
   },
   "outputs": [
    {
     "name": "stdout",
     "output_type": "stream",
     "text": [
      "Array{String,1}\n"
     ]
    },
    {
     "data": {
      "text/plain": [
       "Dict{String,Integer} with 17 entries:\n",
       "  \"6371\" => 1\n",
       "  \"5528\" => 1\n",
       "  \"5058\" => 1\n",
       "  \"3505\" => 1\n",
       "  \"5805\" => 1\n",
       "  \"0552\" => 2\n",
       "  \"8216\" => 1\n",
       "  \"2163\" => 1\n",
       "  \"3835\" => 1\n",
       "  \"2821\" => 1\n",
       "  \"5282\" => 1\n",
       "  \"1637\" => 1\n",
       "  \"8350\" => 1\n",
       "  \"0580\" => 1\n",
       "  \"1383\" => 1\n",
       "  \"3712\" => 1\n",
       "  \"8055\" => 1"
      ]
     },
     "execution_count": 1,
     "metadata": {},
     "output_type": "execute_result"
    }
   ],
   "source": [
    "using Iterators\n",
    "features = [\"1383\",\"0552\",\"3835\",\"8350\",\"3505\",\"5058\",\"0580\",\"5805\",\"8055\",\"0552\",\"5528\",\"5282\",\"2821\",\"8216\",\"2163\",\"1637\",\"6371\",\"3712\"]\n",
    "\n",
    "println(typeof(features))\n",
    "#fdict = {k:sum(1 for _ in g) for k, g in groupby(sort(features))}\n",
    "# fd = {k[1]:length(k) for k in groupby(sort(features))}\n",
    "\n",
    "# sorted = sort(features)\n",
    "\n",
    "fd = Dict{String, Integer}(g[1] => length(g) for g = groupby(x->x, sort(features)))\n",
    "#(String, Integer) => length(g) for g = groupby(sort(features))\n",
    "\n",
    "fd"
   ]
  },
  {
   "cell_type": "code",
   "execution_count": 4,
   "metadata": {
    "collapsed": false
   },
   "outputs": [
    {
     "data": {
      "text/plain": [
       "17-element Array{Pair{String,Integer},1}:\n",
       " Pair{String,Integer}(\"6371\",1)\n",
       " Pair{String,Integer}(\"5528\",1)\n",
       " Pair{String,Integer}(\"5058\",1)\n",
       " Pair{String,Integer}(\"3505\",1)\n",
       " Pair{String,Integer}(\"5805\",1)\n",
       " Pair{String,Integer}(\"0552\",2)\n",
       " Pair{String,Integer}(\"8216\",1)\n",
       " Pair{String,Integer}(\"2163\",1)\n",
       " Pair{String,Integer}(\"3835\",1)\n",
       " Pair{String,Integer}(\"2821\",1)\n",
       " Pair{String,Integer}(\"5282\",1)\n",
       " Pair{String,Integer}(\"1637\",1)\n",
       " Pair{String,Integer}(\"8350\",1)\n",
       " Pair{String,Integer}(\"0580\",1)\n",
       " Pair{String,Integer}(\"1383\",1)\n",
       " Pair{String,Integer}(\"3712\",1)\n",
       " Pair{String,Integer}(\"8055\",1)"
      ]
     },
     "execution_count": 4,
     "metadata": {},
     "output_type": "execute_result"
    }
   ],
   "source": [
    "collect(fd)"
   ]
  },
  {
   "cell_type": "code",
   "execution_count": 32,
   "metadata": {
    "collapsed": false
   },
   "outputs": [
    {
     "name": "stderr",
     "output_type": "stream",
     "text": [
      "WARNING: Method definition redirect_stderr(Function, Any) in module Compat at /Users/sparky/.julia/v0.5/Compat/src/Compat.jl:1602 overwritten in module Compat at /Users/sparky/.julia/v0.5/Compat/src/Compat.jl:1602.\n",
      "WARNING: Method definition redirect_stdout(Function, Any) in module Compat at /Users/sparky/.julia/v0.5/Compat/src/Compat.jl:1602 overwritten in module Compat at /Users/sparky/.julia/v0.5/Compat/src/Compat.jl:1602.\n",
      "WARNING: Method definition take!(Main.Base.AbstractIOBuffer) in module Compat at /Users/sparky/.julia/v0.5/Compat/src/Compat.jl:1708 overwritten in module Compat at /Users/sparky/.julia/v0.5/Compat/src/Compat.jl:1708.\n",
      "WARNING: Method definition !(Function) in module Compat at /Users/sparky/.julia/v0.5/Compat/src/Compat.jl:1741 overwritten in module Compat at /Users/sparky/.julia/v0.5/Compat/src/Compat.jl:1741.\n",
      "WARNING: Method definition isnull(Any) in module Compat at /Users/sparky/.julia/v0.5/Compat/src/Compat.jl:1680 overwritten in module Compat at /Users/sparky/.julia/v0.5/Compat/src/Compat.jl:1680.\n",
      "WARNING: Method definition redirect_stdin(Function, Any) in module Compat at /Users/sparky/.julia/v0.5/Compat/src/Compat.jl:1602 overwritten in module Compat at /Users/sparky/.julia/v0.5/Compat/src/Compat.jl:1602.\n"
     ]
    },
    {
     "data": {
      "text/plain": [
       "0x0000000000000000000000000000000e"
      ]
     },
     "execution_count": 32,
     "metadata": {},
     "output_type": "execute_result"
    }
   ],
   "source": [
    "workspace()\n",
    "using Nettle\n",
    "function bp(features, f)\n",
    "    v = zeros(f)\n",
    "    # check for the end here\n",
    "    masks = [UInt128(1) << UInt128(i) for i in 1:f]\n",
    "    \n",
    "    if isa(features, Dict)\n",
    "        # to list of tuples\n",
    "        features = collect(features)\n",
    "    end\n",
    "    \n",
    "    for f in features\n",
    "        # strings are by default unicode\n",
    "        if isa(f, String)\n",
    "#             h = _hashfunc(f)\n",
    "            h = Hasher(\"md5\")\n",
    "            update!(h, f)\n",
    "            h = parse(UInt128, hexdigest!(h), 16)\n",
    "            w = 1\n",
    "        else\n",
    "                # without assertion for the iterables\n",
    "#             h = _hashfunc(f[1])\n",
    "            h = Hasher(\"md5\")\n",
    "            update!(h, f[1])\n",
    "            h = parse(UInt128, hexdigest!(h), 16)\n",
    "            w = f[2] \n",
    "        end\n",
    "        \n",
    "        for i in 1:length(f)\n",
    "            # so UNPORTED here\n",
    "            v[i] += h & masks[i] != nothing ? w : -w\n",
    "        end\n",
    "    end\n",
    "    \n",
    "    ans = 0\n",
    "    for i in 1:length(f)\n",
    "        if v[i] >= 0\n",
    "            ans |= masks[i] \n",
    "        end\n",
    "    end\n",
    "    \n",
    "    # numeric rep of the string/iterable\n",
    "    return ans\n",
    "end\n",
    "\n",
    "bp([\"aaa\", \"bbb\"], 64)"
   ]
  },
  {
   "cell_type": "code",
   "execution_count": null,
   "metadata": {
    "collapsed": true
   },
   "outputs": [],
   "source": []
  }
 ],
 "metadata": {
  "kernelspec": {
   "display_name": "Julia 0.5.0",
   "language": "julia",
   "name": "julia-0.5"
  },
  "language_info": {
   "file_extension": ".jl",
   "mimetype": "application/julia",
   "name": "julia",
   "version": "0.5.0"
  }
 },
 "nbformat": 4,
 "nbformat_minor": 0
}
