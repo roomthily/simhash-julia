{
 "cells": [
  {
   "cell_type": "code",
   "execution_count": null,
   "metadata": {
    "collapsed": true
   },
   "outputs": [],
   "source": [
    "Port of the simhash algo (from a python port) in julia lang."
   ]
  },
  {
   "cell_type": "code",
   "execution_count": 19,
   "metadata": {
    "collapsed": true
   },
   "outputs": [],
   "source": [
    "# run to reload the workspace/types and avoid the method overwrite warning\n",
    "workspace()"
   ]
  },
  {
   "cell_type": "code",
   "execution_count": 20,
   "metadata": {
    "collapsed": false
   },
   "outputs": [
    {
     "name": "stderr",
     "output_type": "stream",
     "text": [
      "WARNING: Method definition isnull(Any) in module Compat at /Users/sparky/.julia/v0.5/Compat/src/Compat.jl:1693 overwritten in module Compat at /Users/sparky/.julia/v0.5/Compat/src/Compat.jl:1693.\n",
      "WARNING: Method definition !(Function) in module Compat at /Users/sparky/.julia/v0.5/Compat/src/Compat.jl:1754 overwritten in module Compat at /Users/sparky/.julia/v0.5/Compat/src/Compat.jl:1754.\n",
      "WARNING: Method definition redirect_stderr(Function, Any) in module Compat at /Users/sparky/.julia/v0.5/Compat/src/Compat.jl:1615 overwritten in module Compat at /Users/sparky/.julia/v0.5/Compat/src/Compat.jl:1615.\n",
      "WARNING: Method definition redirect_stdin(Function, Any) in module Compat at /Users/sparky/.julia/v0.5/Compat/src/Compat.jl:1615 overwritten in module Compat at /Users/sparky/.julia/v0.5/Compat/src/Compat.jl:1615.\n",
      "WARNING: Method definition take!(Main.Base.AbstractIOBuffer) in module Compat at /Users/sparky/.julia/v0.5/Compat/src/Compat.jl:1721 overwritten in module Compat at /Users/sparky/.julia/v0.5/Compat/src/Compat.jl:1721.\n",
      "WARNING: Method definition redirect_stdout(Function, Any) in module Compat at /Users/sparky/.julia/v0.5/Compat/src/Compat.jl:1615 overwritten in module Compat at /Users/sparky/.julia/v0.5/Compat/src/Compat.jl:1615.\n"
     ]
    }
   ],
   "source": [
    "using Nettle"
   ]
  },
  {
   "cell_type": "code",
   "execution_count": 21,
   "metadata": {
    "collapsed": false
   },
   "outputs": [
    {
     "data": {
      "text/plain": [
       "r\"[\\w\\u4e00-\\u9fcc]+\""
      ]
     },
     "execution_count": 21,
     "metadata": {},
     "output_type": "execute_result"
    }
   ],
   "source": [
    "_regex = r\"[\\w\\u4e00-\\u9fcc]+\""
   ]
  },
  {
   "cell_type": "code",
   "execution_count": 1,
   "metadata": {
    "collapsed": false
   },
   "outputs": [
    {
     "data": {
      "text/plain": [
       "build_by_features (generic function with 0 methods)"
      ]
     },
     "execution_count": 1,
     "metadata": {},
     "output_type": "execute_result"
    }
   ],
   "source": [
    "type Simhash\n",
    "    # this, unfortunately, does not hash on init\n",
    "    value::UInt128\n",
    "    f::Int64\n",
    "end\n",
    "\n",
    "function _hashfunc(x)\n",
    "    h = Hasher(\"md5\")\n",
    "    update!(h, x)\n",
    "    return parse(UInt128, hexdigest!(h), 16)\n",
    "end\n",
    "\n",
    "function distance(one::Simhash, another::Simhash)\n",
    "    # this is ridiculous, julia\n",
    "    x =  BigInt((one.value $ another.value) & ((UInt128(1) << UInt128(one.f)) - UInt128(1)))\n",
    "    ans = 0\n",
    "    while x > 0\n",
    "        ans += 1\n",
    "        x &= x - 1\n",
    "    end\n",
    "    return ans\n",
    "end\n",
    "\n",
    "function _tokenize(content::String)\n",
    "    content = lowercase(content)\n",
    "    content = join(match(_regex, content).captures(), '')\n",
    "    return _slide(content)\n",
    "end\n",
    "\n",
    "function _slide(content::String, width=4)\n",
    "    return [content[i:i + width - 1] for i in 1:max(length(content) - width, 1) + 1] \n",
    "end\n",
    "\n",
    "function build_by_text(content::String)\n",
    "    features = _tokenize(content)\n",
    "    # unported!!\n",
    "    fdict = {k:sum(1 for _ in g) for k, g in groupby(sort(features))}\n",
    "    \n",
    "    return build_by_features(features)\n",
    "end\n",
    "\n",
    "function build_by_features(features)\n",
    "    \n",
    "end"
   ]
  },
  {
   "cell_type": "code",
   "execution_count": null,
   "metadata": {
    "collapsed": true
   },
   "outputs": [],
   "source": [
    "# port of the SimHashIndex class\n",
    "\n",
    "type SimhashIndex \n",
    "    # from py : list of tuples\n",
    "    objs\n",
    "    f::Int64\n",
    "    k::Float16\n",
    "    \n",
    "    count::Int16\n",
    "    \n",
    "    # from py : default dict of sets\n",
    "    bucket \n",
    "end\n",
    "\n",
    "function get_near_dups\n",
    "    \n",
    "end\n",
    "\n",
    "function add_to_index\n",
    "    \n",
    "end\n",
    "\n",
    "function delete_from_index\n",
    "    \n",
    "end\n"
   ]
  },
  {
   "cell_type": "code",
   "execution_count": 23,
   "metadata": {
    "collapsed": false
   },
   "outputs": [
    {
     "name": "stdout",
     "output_type": "stream",
     "text": [
      "manual = 17988778886168394363\n",
      "38\n"
     ]
    }
   ],
   "source": [
    "s1 = Simhash(_hashfunc(\"23456\"), 64)\n",
    "s2 = Simhash(_hashfunc(\"23766\"), 64)\n",
    "\n",
    "println(distance(s1, s2))\n",
    "\n"
   ]
  },
  {
   "cell_type": "code",
   "execution_count": null,
   "metadata": {
    "collapsed": true
   },
   "outputs": [],
   "source": []
  }
 ],
 "metadata": {
  "kernelspec": {
   "display_name": "Julia 0.5.0",
   "language": "julia",
   "name": "julia-0.5"
  },
  "language_info": {
   "file_extension": ".jl",
   "mimetype": "application/julia",
   "name": "julia",
   "version": "0.5.0"
  }
 },
 "nbformat": 4,
 "nbformat_minor": 0
}
